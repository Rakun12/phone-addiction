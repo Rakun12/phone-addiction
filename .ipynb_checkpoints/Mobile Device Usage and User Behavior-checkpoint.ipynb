{
 "cells": [
  {
   "cell_type": "markdown",
   "id": "5eb54878-a645-4843-9a0d-c88fa12f332c",
   "metadata": {},
   "source": [
    "## Project Description"
   ]
  },
  {
   "cell_type": "markdown",
   "id": "3489f4c0-b647-49ec-b219-c62e8961c0d5",
   "metadata": {},
   "source": [
    "This project classify the phone user behavior based on the usage scaling from 1 to 5. The bigger the number, the more user use the phone. The features inside this dataset is:\n",
    "- User ID\n",
    "- Device Model\n",
    "- Operating System\n",
    "- App Usage Time (min/day)\n",
    "- Screen On Time (hours/day)\n",
    "- Battery Drain (mAh/day)\n",
    "- Number of Apps Installed\n",
    "- Data Usage (MB/ day)\n",
    "- Age\n",
    "- Gender\n",
    "- User Behavior Class\n",
    "\n",
    "The dataset used is from kaggle, link: https://www.kaggle.com/datasets/valakhorasani/mobile-device-usage-and-user-behavior-dataset "
   ]
  },
  {
   "cell_type": "markdown",
   "id": "555d88f5-cec2-47ec-8fdd-ab31f2b82941",
   "metadata": {},
   "source": [
    "## Import the relevant libraries"
   ]
  },
  {
   "cell_type": "code",
   "execution_count": null,
   "id": "aa027534-5f29-4321-9cee-c8bac60cfd9c",
   "metadata": {},
   "outputs": [],
   "source": [
    "import pandas as pd\n",
    "import numpy as np\n",
    "import matplotlib.pyplot as plt\n",
    "import seaborn as sns\n",
    "\n",
    "from sklearn.model_selection import train_test_split\n",
    "from sklearn.feature_extraction import DictVectorizer\n",
    "from sklearn.metrics import roc_auc_score\n",
    "from sklearn.metrics import mutual_info_score, confusion_matrix\n",
    "from sklearn.naive_bayes import GaussianNB\n",
    "from sklearn.neighbors import KNeighborsClassifier\n",
    "\n",
    "import xgboost as xgb\n",
    "import pickle"
   ]
  },
  {
   "cell_type": "markdown",
   "id": "ec4142ef-9e87-4a5b-ad83-d5cbe095ec39",
   "metadata": {},
   "source": [
    "## Load the dataset"
   ]
  },
  {
   "cell_type": "code",
   "execution_count": null,
   "id": "06f47aea-6295-46b2-9d97-bee88cf2ab00",
   "metadata": {},
   "outputs": [],
   "source": [
    "df = pd.read_csv('data/user_behavior_dataset.csv')\n",
    "df.head()"
   ]
  },
  {
   "cell_type": "code",
   "execution_count": null,
   "id": "5c4447a5-701f-4059-808c-3498cec042bf",
   "metadata": {},
   "outputs": [],
   "source": [
    "df.info()"
   ]
  },
  {
   "cell_type": "code",
   "execution_count": null,
   "id": "4ecd8dc5-768f-46fd-b0f9-ba88a689f769",
   "metadata": {},
   "outputs": [],
   "source": [
    "df.isnull().sum()"
   ]
  },
  {
   "cell_type": "markdown",
   "id": "296fa7ed-ad8b-4b82-aa75-799b05fe6833",
   "metadata": {},
   "source": [
    "There's no null value inside the dataset"
   ]
  },
  {
   "cell_type": "code",
   "execution_count": null,
   "id": "166ea105-6c50-4e14-85e8-238ccdfaeedd",
   "metadata": {},
   "outputs": [],
   "source": [
    "# Turn the column names into lowercase\n",
    "df.columns = df.columns.str.lower().str.replace(' ', '_')"
   ]
  },
  {
   "cell_type": "markdown",
   "id": "3e32a30e-1680-4e90-acb7-7e06b5a46ace",
   "metadata": {},
   "source": [
    "We should mapping the target (`user_behavior_class`) from 0 to 4, instead from 1 to 5. (Multiclass need arrange from 0 for xgboost, and not doing this will cause an error)"
   ]
  },
  {
   "cell_type": "code",
   "execution_count": null,
   "id": "db316a26-455d-46e6-b30f-38c24b85677b",
   "metadata": {},
   "outputs": [],
   "source": [
    "# mapping the user_behavior_class from 0 to 4\n",
    "df.user_behavior_class = df.user_behavior_class.map({1:0, 2:1, 3:2, 4:3, 5:4})"
   ]
  },
  {
   "cell_type": "code",
   "execution_count": null,
   "id": "dc1c05cc-417b-41bd-b73e-f1cd5aa762f8",
   "metadata": {},
   "outputs": [],
   "source": [
    "# Mapping the gender into number \n",
    "df.gender = df.gender.map({'Female': 0, 'Male': 1})"
   ]
  },
  {
   "cell_type": "code",
   "execution_count": null,
   "id": "9ddd4401-baf9-4e72-b74d-2bd88e78f060",
   "metadata": {},
   "outputs": [],
   "source": [
    "df.user_behavior_class.value_counts()"
   ]
  },
  {
   "cell_type": "code",
   "execution_count": null,
   "id": "9988c14d-77a6-40a2-9334-e3c3fae37304",
   "metadata": {},
   "outputs": [],
   "source": [
    "# drop the user_id\n",
    "del df['user_id']"
   ]
  },
  {
   "cell_type": "markdown",
   "id": "48444782-90af-4020-beb6-cde3542e1d4f",
   "metadata": {},
   "source": [
    "## EDA"
   ]
  },
  {
   "cell_type": "code",
   "execution_count": null,
   "id": "0e3fa14f-5323-484b-872b-eac34a0d6438",
   "metadata": {},
   "outputs": [],
   "source": [
    "df.describe()"
   ]
  },
  {
   "cell_type": "markdown",
   "id": "c51fc3f5-cdf3-44f6-b452-37b8652faa61",
   "metadata": {},
   "source": [
    "For the numerical features we got the median of the data exactly in the middle. "
   ]
  },
  {
   "cell_type": "code",
   "execution_count": null,
   "id": "5e3c116c-ede6-455a-b806-5dc7db30f3fb",
   "metadata": {},
   "outputs": [],
   "source": [
    "# Seperate the numerical and categorical for feature importance needs\n",
    "categorical_features = ['gender', 'device_model', 'operating_system']\n",
    "numerical_features = ['app_usage_time_(min/day)', 'screen_on_time_(hours/day)',\n",
    "                      'battery_drain_(mah/day)', 'number_of_apps_installed',\n",
    "                      'data_usage_(mb/day)', 'age']"
   ]
  },
  {
   "cell_type": "code",
   "execution_count": null,
   "id": "60f7e464-4fda-47cb-a6fb-b51ebd36e02d",
   "metadata": {},
   "outputs": [],
   "source": [
    "# Checking the correlation between the numerical features and the target\n",
    "df[numerical_features].corrwith(df.user_behavior_class)"
   ]
  },
  {
   "cell_type": "code",
   "execution_count": null,
   "id": "bc743033-cb43-4f93-bf05-9c0aa08d0de9",
   "metadata": {},
   "outputs": [],
   "source": [
    "# Checking the mutual info betweeen the categorical \n",
    "def mutual_info_usage_score(series):\n",
    "    return mutual_info_score(series, df.user_behavior_class)\n",
    "\n",
    "mi = df[categorical_features].apply(mutual_info_usage_score)\n",
    "mi.sort_values(ascending=False)"
   ]
  },
  {
   "cell_type": "markdown",
   "id": "08e99129-ca7f-4cc3-a877-70fe95df9f22",
   "metadata": {},
   "source": [
    "Based on the feature importance above, we will not use `age` cause the impact is really small for the model. Based on correlation the value is `-0.0006`.\n",
    "\n",
    "Also we drop `operating_system` and `device_model`"
   ]
  },
  {
   "cell_type": "code",
   "execution_count": null,
   "id": "894f198f-dbcc-4b4f-81ac-64272bb9d4d4",
   "metadata": {},
   "outputs": [],
   "source": [
    "figure, axis = plt.subplots(nrows=len(numerical_features), sharex=True, figsize=(6, 30))\n",
    "for i in range(len(numerical_features)):\n",
    "    sns.boxplot(x=df.user_behavior_class, y=df[numerical_features[i]], ax=axis[i])"
   ]
  },
  {
   "cell_type": "code",
   "execution_count": null,
   "id": "f85ad515-be91-4065-8992-922e74361d42",
   "metadata": {},
   "outputs": [],
   "source": [
    "df_clean = df.drop(['age', 'operating_system', 'device_model'], axis=1)\n",
    "df_clean.head()"
   ]
  },
  {
   "cell_type": "markdown",
   "id": "e2450414-5a5d-4558-853d-ab80888adac2",
   "metadata": {},
   "source": [
    "## Modeling"
   ]
  },
  {
   "cell_type": "code",
   "execution_count": null,
   "id": "a2527f93-ef45-494f-94dd-bfd52a78a04c",
   "metadata": {},
   "outputs": [],
   "source": [
    "df_full_train, df_test = train_test_split(df_clean, test_size=0.2, random_state=12)\n",
    "df_train, df_val = train_test_split(df_full_train, test_size=0.25, random_state=12)"
   ]
  },
  {
   "cell_type": "code",
   "execution_count": null,
   "id": "aa0ab8e9-ca52-4b8e-9baf-a7f2959665e2",
   "metadata": {},
   "outputs": [],
   "source": [
    "y_train = df_train.user_behavior_class.values\n",
    "y_val = df_val.user_behavior_class.values\n",
    "y_test = df_test.user_behavior_class.values\n",
    "y_full_train = df_full_train.user_behavior_class.values\n",
    "\n",
    "del(df_train['user_behavior_class'])\n",
    "del(df_val['user_behavior_class'])\n",
    "del(df_test['user_behavior_class'])\n",
    "del(df_full_train['user_behavior_class'])\n",
    "\n",
    "df_train = df_train.reset_index(drop=True)\n",
    "df_val = df_val.reset_index(drop=True)\n",
    "df_test = df_test.reset_index(drop=True)\n",
    "df_full_train = df_full_train.reset_index(drop=True)"
   ]
  },
  {
   "cell_type": "code",
   "execution_count": null,
   "id": "8c8ce513-6b78-4f15-83b0-79d207808d91",
   "metadata": {},
   "outputs": [],
   "source": [
    "unique, count = np.unique(y_train, return_counts=True)\n",
    "count, unique"
   ]
  },
  {
   "cell_type": "code",
   "execution_count": null,
   "id": "01c46fa1-c7c3-45e0-b8cd-78eb5031c88c",
   "metadata": {},
   "outputs": [],
   "source": [
    "train_dict = df_train.to_dict(orient='records')\n",
    "val_dict = df_val.to_dict(orient='records')\n",
    "test_dict = df_test.to_dict(orient='records')\n",
    "\n",
    "dv = DictVectorizer(sparse=False)\n",
    "X_train = dv.fit_transform(train_dict)\n",
    "X_val = dv.transform(val_dict)\n",
    "X_test = dv.transform(test_dict)"
   ]
  },
  {
   "cell_type": "markdown",
   "id": "3aa6bd0f-f15b-42be-ae91-b1865a31e007",
   "metadata": {},
   "source": [
    "### Modeling with XGBoost"
   ]
  },
  {
   "cell_type": "code",
   "execution_count": null,
   "id": "e773aaff-2f51-4402-b0e2-b0142f1930f1",
   "metadata": {},
   "outputs": [],
   "source": [
    "features = dv.get_feature_names_out()\n",
    "dtrain = xgb.DMatrix(X_train, label=y_train, feature_names=list(features))\n",
    "dval = xgb.DMatrix(X_val, feature_names=list(features))\n",
    "dtest = xgb.DMatrix(X_test, feature_names=list(features))"
   ]
  },
  {
   "cell_type": "code",
   "execution_count": null,
   "id": "04a02efd-6690-4ba0-aede-c38f55300cdf",
   "metadata": {},
   "outputs": [],
   "source": [
    "%%time\n",
    "xgb_params = {\n",
    "    'eta': 0.3,\n",
    "    'max_depth': 6,\n",
    "    'min_child_weight': 1,\n",
    "\n",
    "    'objective': 'multi:softmax',\n",
    "    'num_class': 5,\n",
    "    'nthread': 8,\n",
    "\n",
    "    'seed': 1,\n",
    "    'verbosity': 1,\n",
    "}\n",
    "\n",
    "model = xgb.train(xgb_params, dtrain, num_boost_round=10)"
   ]
  },
  {
   "cell_type": "code",
   "execution_count": null,
   "id": "365ba51c-3d8b-4ce0-8778-1182d5fc32e8",
   "metadata": {},
   "outputs": [],
   "source": [
    "%%time\n",
    "y_pred = model.predict(dval)"
   ]
  },
  {
   "cell_type": "code",
   "execution_count": null,
   "id": "7ba1600d-4588-4459-a34f-a42fcb7b53b9",
   "metadata": {},
   "outputs": [],
   "source": [
    "(y_val == y_pred).mean()"
   ]
  },
  {
   "cell_type": "code",
   "execution_count": null,
   "id": "516ebeed-06ed-4c18-893b-679414cc74c7",
   "metadata": {},
   "outputs": [],
   "source": [
    "y_pred = model.predict(dtest)\n",
    "(y_test == y_pred).mean()"
   ]
  },
  {
   "cell_type": "code",
   "execution_count": null,
   "id": "f943fb53-f786-473c-8a2d-dda277d0baa4",
   "metadata": {},
   "outputs": [],
   "source": [
    "cm = confusion_matrix(y_val, y_pred)\n",
    "sns.heatmap(pd.DataFrame(cm))"
   ]
  },
  {
   "cell_type": "markdown",
   "id": "90c9d12f-ab4b-4149-9dc1-7e4c34862fea",
   "metadata": {},
   "source": [
    "We got the accuracy, precision, and recall `1.0`, means there is no `false positive` and `false negative`."
   ]
  },
  {
   "cell_type": "markdown",
   "id": "6ba704dc-4761-4208-9d97-a35ab3720dc7",
   "metadata": {},
   "source": [
    "### Modeling with naive bayes"
   ]
  },
  {
   "cell_type": "code",
   "execution_count": null,
   "id": "dbbd15aa-a90b-4147-b52c-b10ac61fa027",
   "metadata": {},
   "outputs": [],
   "source": [
    "clf = GaussianNB(var_smoothing=0.01)"
   ]
  },
  {
   "cell_type": "code",
   "execution_count": null,
   "id": "59f59c2e-4f57-47dc-b2bf-2c9d4fff771d",
   "metadata": {},
   "outputs": [],
   "source": [
    "%%time\n",
    "clf.fit(X_train, y_train)\n",
    "clf.score(X_val, y_val)"
   ]
  },
  {
   "cell_type": "code",
   "execution_count": null,
   "id": "c2f5d69b-7408-43bd-91d0-d943210974a5",
   "metadata": {},
   "outputs": [],
   "source": [
    "%%time\n",
    "nb_pred = clf.predict(X_val)"
   ]
  },
  {
   "cell_type": "code",
   "execution_count": null,
   "id": "2094d14f-bfc5-4438-8f4a-d927ca8e1ad4",
   "metadata": {},
   "outputs": [],
   "source": [
    "cm_nb = confusion_matrix(y_val, nb_pred)\n",
    "sns.heatmap(pd.DataFrame(cm_nb))"
   ]
  },
  {
   "cell_type": "code",
   "execution_count": null,
   "id": "b4c9bdd7-7fb8-4175-9547-1cb8b758d6ad",
   "metadata": {},
   "outputs": [],
   "source": [
    "y_pred = clf.predict_proba(X_val)\n",
    "roc_auc_score(y_val, y_pred, multi_class='ovr')"
   ]
  },
  {
   "cell_type": "markdown",
   "id": "e32ae145-88ac-4eb7-b5c3-40466b482a7e",
   "metadata": {},
   "source": [
    "### Modeling with KNN"
   ]
  },
  {
   "cell_type": "code",
   "execution_count": null,
   "id": "1624136b-1d66-4add-8416-2b9ee7e74c97",
   "metadata": {},
   "outputs": [],
   "source": [
    "%%time\n",
    "knn = KNeighborsClassifier(n_neighbors=3)\n",
    "knn.fit(X_train, y_train)"
   ]
  },
  {
   "cell_type": "code",
   "execution_count": null,
   "id": "3137bae8-f5c3-4df7-983b-f53244f77d5c",
   "metadata": {},
   "outputs": [],
   "source": [
    "%%time\n",
    "y_pred = knn.predict(X_val)"
   ]
  },
  {
   "cell_type": "code",
   "execution_count": null,
   "id": "86ec32ba-c273-4bfb-9266-3eb89137cec7",
   "metadata": {},
   "outputs": [],
   "source": [
    "knn.score(X_val, y_val)"
   ]
  },
  {
   "cell_type": "code",
   "execution_count": null,
   "id": "14108692-bad9-4cfd-854e-97345171797f",
   "metadata": {},
   "outputs": [],
   "source": [
    "df_clean"
   ]
  },
  {
   "cell_type": "markdown",
   "id": "857db610-c7e8-4633-9218-fb948a900216",
   "metadata": {},
   "source": [
    "We got 100% accuration for all of the model. After look back to the model we got that the seperation between all of the categories is very clear. So we end up not tuning the model because no need tuning in this case"
   ]
  },
  {
   "cell_type": "markdown",
   "id": "7ef15d18-08fa-4c47-8cbd-95c15ece37c1",
   "metadata": {},
   "source": [
    "## Turn into pickle "
   ]
  },
  {
   "cell_type": "markdown",
   "id": "467edf55-bfd9-4fe4-9d68-3b722a3fa74a",
   "metadata": {},
   "source": [
    "We use naive bayes model for the fastest computation"
   ]
  },
  {
   "cell_type": "code",
   "execution_count": null,
   "id": "602b71bf-5837-44e3-b3ba-ddb30589733d",
   "metadata": {},
   "outputs": [],
   "source": [
    "output_file = 'model.bin'\n",
    "output_file"
   ]
  },
  {
   "cell_type": "code",
   "execution_count": null,
   "id": "5edc6791-41b1-4172-aac8-2de833e22c9a",
   "metadata": {},
   "outputs": [],
   "source": [
    "with open(output_file, 'wb') as f_out:\n",
    "    pickle.dump((dv, clf), f_out)"
   ]
  },
  {
   "cell_type": "code",
   "execution_count": null,
   "id": "d457ace1-65d3-41f5-95df-5f9340723191",
   "metadata": {},
   "outputs": [],
   "source": [
    "df[101]"
   ]
  },
  {
   "cell_type": "code",
   "execution_count": null,
   "id": "3ed1f51e-f935-4bea-88f2-6e19de5937f2",
   "metadata": {},
   "outputs": [],
   "source": []
  }
 ],
 "metadata": {
  "kernelspec": {
   "display_name": "Python 3 (ipykernel)",
   "language": "python",
   "name": "python3"
  },
  "language_info": {
   "codemirror_mode": {
    "name": "ipython",
    "version": 3
   },
   "file_extension": ".py",
   "mimetype": "text/x-python",
   "name": "python",
   "nbconvert_exporter": "python",
   "pygments_lexer": "ipython3",
   "version": "3.12.4"
  }
 },
 "nbformat": 4,
 "nbformat_minor": 5
}
